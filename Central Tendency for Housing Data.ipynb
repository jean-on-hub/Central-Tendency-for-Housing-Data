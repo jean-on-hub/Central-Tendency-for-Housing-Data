{
 "cells": [
  {
   "cell_type": "markdown",
   "id": "dded9848",
   "metadata": {},
   "source": [
    "### import libraries"
   ]
  },
  {
   "cell_type": "code",
   "execution_count": 2,
   "id": "68d245e1",
   "metadata": {},
   "outputs": [],
   "source": [
    "import numpy as np\n",
    "import pandas as pd\n",
    "from scipy import stats\n"
   ]
  },
  {
   "cell_type": "markdown",
   "id": "1b5017f4",
   "metadata": {},
   "source": [
    "### import and inspect data"
   ]
  },
  {
   "cell_type": "code",
   "execution_count": 5,
   "id": "999f5f8b",
   "metadata": {},
   "outputs": [],
   "source": [
    "brooklyn_one_bed = pd.read_csv('brooklyn-one-bed.csv')\n",
    "brooklyn_price = brooklyn_one_bed['rent']\n",
    "\n",
    "manhattan_one_bed = pd.read_csv('manhattan-one-bed.csv')\n",
    "manhattan_price = manhattan_one_bed['rent']\n",
    "\n",
    "queens_one_bed = pd.read_csv('queens-one-bed.csv')\n",
    "queens_price = queens_one_bed['rent']"
   ]
  },
  {
   "cell_type": "markdown",
   "id": "b4b91f7e",
   "metadata": {},
   "source": [
    "### get mean"
   ]
  },
  {
   "cell_type": "code",
   "execution_count": 7,
   "id": "667bddc0",
   "metadata": {},
   "outputs": [
    {
     "name": "stdout",
     "output_type": "stream",
     "text": [
      "3327.4037512339587\n",
      "3993.4769647696476\n",
      "2346.2543103448274\n"
     ]
    }
   ],
   "source": [
    "brooklyn_price_array =np.array(brooklyn_price)\n",
    "brooklyn_mean = np.mean(brooklyn_price_array)\n",
    "print(brooklyn_mean)\n",
    "manhattan_price_array =np.array(manhattan_price)\n",
    "manhattan_mean = np.mean(manhattan_price_array)\n",
    "print(manhattan_mean)\n",
    "queens_price_array =np.array(queens_price)\n",
    "queens_mean = np.mean(queens_price_array)\n",
    "print(queens_mean)"
   ]
  },
  {
   "cell_type": "markdown",
   "id": "2c82f8d6",
   "metadata": {},
   "source": [
    "### get median and mode"
   ]
  },
  {
   "cell_type": "code",
   "execution_count": 8,
   "id": "6d5565cf",
   "metadata": {},
   "outputs": [],
   "source": [
    "brooklyn_median = np.median(brooklyn_price_array)\n",
    "manhattan_median = np.median(manhattan_price_array)\n",
    "queens_median = np.median(queens_price_array)\n",
    "\n",
    "\n",
    "\n",
    "# Add mode calculations below\n",
    "queens_mode = stats.mode(queens_price_array)\n",
    "manhattan_mode = stats.mode(manhattan_price_array)\n",
    "brooklyn_mode = stats.mode(brooklyn_price_array)"
   ]
  },
  {
   "cell_type": "code",
   "execution_count": null,
   "id": "665fa657",
   "metadata": {},
   "outputs": [],
   "source": []
  }
 ],
 "metadata": {
  "kernelspec": {
   "display_name": "Python 3",
   "language": "python",
   "name": "python3"
  },
  "language_info": {
   "codemirror_mode": {
    "name": "ipython",
    "version": 3
   },
   "file_extension": ".py",
   "mimetype": "text/x-python",
   "name": "python",
   "nbconvert_exporter": "python",
   "pygments_lexer": "ipython3",
   "version": "3.8.8"
  }
 },
 "nbformat": 4,
 "nbformat_minor": 5
}
